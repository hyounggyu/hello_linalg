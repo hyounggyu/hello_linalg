{
 "cells": [
  {
   "cell_type": "markdown",
   "metadata": {},
   "source": [
    "## LU Factorization with Partial Pivoting\n",
    "\n",
    "Reference: [Advanced Linear Algebra: Foundations to Frontiers - Week 5 The LU and Cholesky Factorizations](https://www.cs.utexas.edu/users/flame/laff/alaff/chapter05-LU-factorization.html)"
   ]
  },
  {
   "cell_type": "markdown",
   "metadata": {},
   "source": [
    "### SciPy Implementation\n",
    "\n",
    "Reference: https://docs.scipy.org/doc/scipy/reference/generated/scipy.linalg.lu.html#scipy.linalg.lu\n",
    "\n",
    "> Compute LU decomposition of a matrix with partial pivoting.\n",
    "> \n",
    "> The decomposition satisfies:\n",
    "> \n",
    "> `A = P @ L @ U`\n",
    ">\n",
    "> where P is a permutation matrix, L lower triangular with unit diagonal elements, and U upper triangular. If `permute_l` is set to True then L is returned already permuted and hence satisfying `A = L @ U`."
   ]
  },
  {
   "cell_type": "code",
   "execution_count": 1,
   "metadata": {},
   "outputs": [],
   "source": [
    "# !pip install numpy scipy"
   ]
  },
  {
   "cell_type": "code",
   "execution_count": 2,
   "metadata": {},
   "outputs": [],
   "source": [
    "import numpy as np\n",
    "import scipy.linalg"
   ]
  },
  {
   "cell_type": "code",
   "execution_count": 3,
   "metadata": {},
   "outputs": [],
   "source": [
    "a = np.array([[0, 2, 3], [4, 5, 6], [7, 8, 9]])\n",
    "p, l, u = scipy.linalg.lu(a)"
   ]
  },
  {
   "cell_type": "code",
   "execution_count": 4,
   "metadata": {},
   "outputs": [
    {
     "data": {
      "text/plain": [
       "array([[0., 2., 3.],\n",
       "       [4., 5., 6.],\n",
       "       [7., 8., 9.]])"
      ]
     },
     "execution_count": 4,
     "metadata": {},
     "output_type": "execute_result"
    }
   ],
   "source": [
    "p @ l @ u"
   ]
  },
  {
   "cell_type": "code",
   "execution_count": 5,
   "metadata": {},
   "outputs": [
    {
     "data": {
      "text/plain": [
       "array([[7.        , 8.        , 9.        ],\n",
       "       [0.        , 2.        , 3.        ],\n",
       "       [0.        , 0.        , 0.21428571]])"
      ]
     },
     "execution_count": 5,
     "metadata": {},
     "output_type": "execute_result"
    }
   ],
   "source": [
    "u"
   ]
  },
  {
   "cell_type": "code",
   "execution_count": 6,
   "metadata": {},
   "outputs": [
    {
     "data": {
      "text/plain": [
       "array([[1.        , 0.        , 0.        ],\n",
       "       [0.        , 1.        , 0.        ],\n",
       "       [0.57142857, 0.21428571, 1.        ]])"
      ]
     },
     "execution_count": 6,
     "metadata": {},
     "output_type": "execute_result"
    }
   ],
   "source": [
    "l"
   ]
  },
  {
   "cell_type": "code",
   "execution_count": 7,
   "metadata": {},
   "outputs": [
    {
     "data": {
      "text/plain": [
       "array([[0., 1., 0.],\n",
       "       [0., 0., 1.],\n",
       "       [1., 0., 0.]])"
      ]
     },
     "execution_count": 7,
     "metadata": {},
     "output_type": "execute_result"
    }
   ],
   "source": [
    "p"
   ]
  },
  {
   "cell_type": "code",
   "execution_count": 8,
   "metadata": {},
   "outputs": [
    {
     "data": {
      "text/plain": [
       "array([[7.        , 8.        , 9.        ],\n",
       "       [0.        , 2.        , 3.        ],\n",
       "       [0.57142857, 0.21428571, 0.21428571]])"
      ]
     },
     "execution_count": 8,
     "metadata": {},
     "output_type": "execute_result"
    }
   ],
   "source": [
    "l + u - np.eye(3)"
   ]
  },
  {
   "cell_type": "markdown",
   "metadata": {},
   "source": [
    "Singularity case"
   ]
  },
  {
   "cell_type": "code",
   "execution_count": 9,
   "metadata": {},
   "outputs": [],
   "source": [
    "a = [[1,2,3], [2,4,6], [4,5,6]]\n",
    "p, l, u = scipy.linalg.lu(a)"
   ]
  },
  {
   "cell_type": "code",
   "execution_count": 10,
   "metadata": {},
   "outputs": [
    {
     "data": {
      "text/plain": [
       "array([[4. , 5. , 6. ],\n",
       "       [0. , 1.5, 3. ],\n",
       "       [0. , 0. , 0. ]])"
      ]
     },
     "execution_count": 10,
     "metadata": {},
     "output_type": "execute_result"
    }
   ],
   "source": [
    "u"
   ]
  },
  {
   "cell_type": "code",
   "execution_count": 11,
   "metadata": {},
   "outputs": [],
   "source": [
    "a = np.array([[3, 2, 0], [1, -1, 0], [0, 5, 1]])\n",
    "b = np.array([2, 4, -1])"
   ]
  },
  {
   "cell_type": "code",
   "execution_count": 12,
   "metadata": {},
   "outputs": [],
   "source": [
    "x = scipy.linalg.solve(a, b)"
   ]
  },
  {
   "cell_type": "code",
   "execution_count": 13,
   "metadata": {},
   "outputs": [
    {
     "data": {
      "text/plain": [
       "array([ 2., -2.,  9.])"
      ]
     },
     "execution_count": 13,
     "metadata": {},
     "output_type": "execute_result"
    }
   ],
   "source": [
    "x"
   ]
  },
  {
   "cell_type": "code",
   "execution_count": 3,
   "metadata": {},
   "outputs": [],
   "source": [
    "import numpy as np"
   ]
  },
  {
   "cell_type": "code",
   "execution_count": 6,
   "metadata": {},
   "outputs": [],
   "source": [
    "def lu_py(a):\n",
    "    p = np.arange(len(a))\n",
    "    for i in range(len(a)):\n",
    "        pivot_index = np.argmax(np.abs(a[i:, i])) + i\n",
    "        if pivot_index != i:\n",
    "            a[[i, pivot_index]] = a[[pivot_index, i]]\n",
    "            p[[i, pivot_index]] = p[[pivot_index, i]]\n",
    "        for j in range(i + 1, len(a)):\n",
    "            a[j, i] /= a[i, i]\n",
    "            for k in range(i + 1, len(a)):\n",
    "                a[j, k] -= a[j, i] * a[i, k]\n",
    "    return a, p"
   ]
  },
  {
   "cell_type": "code",
   "execution_count": 7,
   "metadata": {},
   "outputs": [
    {
     "data": {
      "text/plain": [
       "(array([[7.        , 8.        , 9.        ],\n",
       "        [0.        , 2.        , 3.        ],\n",
       "        [0.57142857, 0.21428571, 0.21428571]]),\n",
       " array([2, 0, 1]))"
      ]
     },
     "execution_count": 7,
     "metadata": {},
     "output_type": "execute_result"
    }
   ],
   "source": [
    "a = np.array([[0, 2, 3], [4, 5, 6], [7, 8, 9]], dtype=np.float64)\n",
    "lu_py(a)"
   ]
  }
 ],
 "metadata": {
  "kernelspec": {
   "display_name": "linalg",
   "language": "python",
   "name": "python3"
  },
  "language_info": {
   "codemirror_mode": {
    "name": "ipython",
    "version": 3
   },
   "file_extension": ".py",
   "mimetype": "text/x-python",
   "name": "python",
   "nbconvert_exporter": "python",
   "pygments_lexer": "ipython3",
   "version": "3.11.5"
  }
 },
 "nbformat": 4,
 "nbformat_minor": 2
}
