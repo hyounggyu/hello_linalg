{
 "cells": [
  {
   "cell_type": "markdown",
   "metadata": {},
   "source": [
    "# Linear Solver Using LU Decomposition\n",
    "\n",
    "$A$ is a square matrix, $x$ and $B$ are vectors.\n",
    "\n",
    "$$\n",
    "\\mathbf{A} x = b\n",
    "$$\n",
    "\n",
    "$A$ can be decomposed into a product of a permutation matrix $P$, a lower triangular matrix $L$ and an upper triangular matrix $U$.\n",
    "\n",
    "$$\n",
    "\\mathbf{P} \\mathbf{A} = \\mathbf{L} \\mathbf{U}\n",
    "$$\n",
    "\n",
    "Then the equation can be rewritten as\n",
    "\n",
    "$$\n",
    "\\mathbf{P} \\mathbf{A} = \\mathbf{P} b\n",
    "$$\n",
    "\n",
    "$$\n",
    "\\mathbf{L} \\mathbf{U} x = \\mathbf{P} b\n",
    "$$\n",
    "\n",
    "$x$ can be solved by\n",
    "\n",
    "\n",
    "$$\n",
    "y = \\mathbf{U} x\n",
    "$$\n",
    "\n",
    "$$\n",
    "\\mathbf{L} y = \\mathbf{P} b\n",
    "$$\n",
    "\n",
    "Solve y by forward substitution then solve x by backward substitution."
   ]
  },
  {
   "cell_type": "markdown",
   "metadata": {},
   "source": [
    "## SciPy Implementation\n",
    "\n",
    "Reference: https://docs.scipy.org/doc/scipy/reference/generated/scipy.linalg.lu.html#scipy.linalg.lu\n",
    "\n",
    "> Compute LU decomposition of a matrix with partial pivoting.\n",
    "> \n",
    "> The decomposition satisfies:\n",
    "> \n",
    "> `A = P @ L @ U`\n",
    ">\n",
    "> where P is a permutation matrix, L lower triangular with unit diagonal elements, and U upper triangular. If `permute_l` is set to True then L is returned already permuted and hence satisfying `A = L @ U`."
   ]
  },
  {
   "cell_type": "code",
   "execution_count": 1,
   "metadata": {},
   "outputs": [],
   "source": [
    "# !pip install numpy scipy"
   ]
  },
  {
   "cell_type": "code",
   "execution_count": 2,
   "metadata": {},
   "outputs": [],
   "source": [
    "import numpy as np\n",
    "import scipy.linalg"
   ]
  },
  {
   "cell_type": "code",
   "execution_count": 3,
   "metadata": {},
   "outputs": [],
   "source": [
    "A = np.array([[0, 2, 3], [4, 5, 6], [7, 8, 9]])\n",
    "P, L, U = scipy.linalg.lu(A)"
   ]
  },
  {
   "cell_type": "code",
   "execution_count": 4,
   "metadata": {},
   "outputs": [
    {
     "data": {
      "text/plain": [
       "array([[0., 2., 3.],\n",
       "       [4., 5., 6.],\n",
       "       [7., 8., 9.]])"
      ]
     },
     "execution_count": 4,
     "metadata": {},
     "output_type": "execute_result"
    }
   ],
   "source": [
    "P @ L @ U"
   ]
  },
  {
   "cell_type": "markdown",
   "metadata": {},
   "source": [
    "Singularity case"
   ]
  },
  {
   "cell_type": "code",
   "execution_count": 5,
   "metadata": {},
   "outputs": [],
   "source": [
    "A = [[1,2,3], [2,4,6], [4,5,6]]\n",
    "P, L, U = scipy.linalg.lu(A)"
   ]
  },
  {
   "cell_type": "code",
   "execution_count": 6,
   "metadata": {},
   "outputs": [
    {
     "data": {
      "text/plain": [
       "array([[4. , 5. , 6. ],\n",
       "       [0. , 1.5, 3. ],\n",
       "       [0. , 0. , 0. ]])"
      ]
     },
     "execution_count": 6,
     "metadata": {},
     "output_type": "execute_result"
    }
   ],
   "source": [
    "U"
   ]
  }
 ],
 "metadata": {
  "kernelspec": {
   "display_name": "linalg",
   "language": "python",
   "name": "python3"
  },
  "language_info": {
   "codemirror_mode": {
    "name": "ipython",
    "version": 3
   },
   "file_extension": ".py",
   "mimetype": "text/x-python",
   "name": "python",
   "nbconvert_exporter": "python",
   "pygments_lexer": "ipython3",
   "version": "3.11.5"
  }
 },
 "nbformat": 4,
 "nbformat_minor": 2
}
